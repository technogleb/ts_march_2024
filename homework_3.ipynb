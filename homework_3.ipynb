{
 "cells": [
  {
   "cell_type": "markdown",
   "id": "81bae5b8-b758-4b09-8dbb-a53ac645fd11",
   "metadata": {},
   "source": [
    "# Домашнее задание 3.\n",
    "## Классификатор на сезонные ряды для построения автоматического пайплайна прогнозирования."
   ]
  },
  {
   "cell_type": "markdown",
   "id": "511fdb52-d344-4f28-a23a-21a96c9920bb",
   "metadata": {},
   "source": [
    "В рамках курса мы разбирали множество подходов к прогнозированию временных рядов, однако одновременно мы работали со счетным количеством рядов,\n",
    "для каждого из которых была возможность проанализировать его \"вручную\" и подобрать наилучшую модель. Но что, если мы столкнулись с задачей прогнозирования\n",
    "сразу сотен рядов? В таком случае мы уже не можем строить модель на каждый ряд вручную и нам придется либо строить одну модель сразу на все ряды и надеяться, что качество будет удовлетворительным, либо придумывать некий automl подход. "
   ]
  },
  {
   "cell_type": "markdown",
   "id": "76276ac1-e1a4-4b67-b212-4a1667131ef6",
   "metadata": {},
   "source": [
    "Одним из вариантов такого automl подхода может служить тот, в котором мы разбиваем временные ряды на типы и для каждого типа строим модель прогнозирования, наиболее хорошо такой тип описывающую. Для того, чтобы автоматически определять тип ряда, мы строим классификатор, способный этот тип определять."
   ]
  },
  {
   "cell_type": "markdown",
   "id": "4a6e3cca-a74e-4e5b-8402-bc0cfd744d9e",
   "metadata": {},
   "source": [
    "Одним из самых очевидных разбиений рядов на типы может быть разбиение на сезонные и не сезонные ряды. Предположение о наличии сезонности позволит использовать алгоритмы, лучше заточенные под поиск сезонных зависимостей, кроме того, это позволит сэкономить вычислительные ресурсы, так как несезонные ряды зачастую можно хорошо прогнозировать более легковесными методами. "
   ]
  },
  {
   "cell_type": "markdown",
   "id": "e80ee77c-ae3f-46a9-9963-ebba463514d8",
   "metadata": {},
   "source": [
    "В текущем задании вам как раз и предлагается спроектировать такой бинарный классификатор, который мог бы отделять сезонные ряды от несезонных."
   ]
  },
  {
   "cell_type": "markdown",
   "id": "3eb61f8e-d111-4473-bb79-054516aa2174",
   "metadata": {},
   "source": [
    "## Задание"
   ]
  },
  {
   "cell_type": "markdown",
   "id": "b6f18e7b-b36d-4d3c-8eb3-d1b9df6b577a",
   "metadata": {},
   "source": [
    "Ниже приведен класс для обучения произвольного классификатора на датасете одномерных временных рядов, т.е. на наборе обьектов вида\n",
    "(timeseries, label). Данный класс определяет метод для получения произвольного признакового описания ряда `get_feature_vector`, использует его для получения датасета, после чего обучает на датасете бинарный классификатор удовлетворяющий sklearn estimator API.\n",
    "\n",
    "**Вам необходимо:**\n",
    "1. Определить метод `get_feature_vector`, который позволил бы выделить из временного ряда характерные признаки, указывающие на сезонность.\n",
    "2. Разбить датасет в соотношении 60/40 (train, test). Проследите за сбалансированностью классов в выборках.\n",
    "3. Обучить модель на трейне.\n",
    "4. Сделайте прогноз на тесте и получите метрики `f1`, `auc-roc`.\n",
    "5. Итоговые баллы за задание будут зависеть от значения метрик.  \n",
    "   `50 < f1,roc < 60` 4 балла  \n",
    "   `60 < f1,roc < 70` 6 баллов  \n",
    "   `70 < f1,roc < 85` 8 баллов  \n",
    "   `85 < f1,roc < 95` 9 баллов  \n",
    "   `95 < f1,roc` 10 баллов  "
   ]
  },
  {
   "cell_type": "code",
   "execution_count": 183,
   "id": "3aee02ab-5504-4de9-9ce0-65c051f4cad0",
   "metadata": {},
   "outputs": [],
   "source": [
    "from pathlib import Path\n",
    "from typing import Iterable, Tuple\n",
    "\n",
    "import pandas as pd\n",
    "import numpy as np\n",
    "from sklearn.linear_model import LogisticRegression\n",
    "\n",
    "\n",
    "class SeasonalClassifier:\n",
    "    def __init__(self, classifier=LogisticRegression, **kwargs):\n",
    "        self.classifier = classifier(**kwargs)\n",
    "        self.fitted = False\n",
    "\n",
    "    def fit(self, ts_dataset: Iterable[Tuple[pd.Series, int]], **kwargs):\n",
    "        X, y = [], []\n",
    "        for ts, label in ts_dataset:\n",
    "            feature_vector = self.get_feature_vector(ts)\n",
    "            X.append(feature_vector)\n",
    "            y.append(label)\n",
    "        X = np.array(X)\n",
    "        y = np.array(y)\n",
    "        self.classifier.fit(X, y, **kwargs)\n",
    "        self.fitted = True\n",
    "\n",
    "    def predict(self, ts: pd.Series):\n",
    "        self._check_fitted()\n",
    "        feature_vector = self.get_feature_vector(ts)\n",
    "        label = self.classifier.predict(np.array([feature_vector]))\n",
    "        return label\n",
    "\n",
    "    def predict_proba(self, ts: pd.Series):\n",
    "        self._check_fitted()\n",
    "        feature_vector = self.get_feature_vector(ts)\n",
    "        proba = self.classifier.predict_proba(np.array([feature_vector]))\n",
    "        return proba\n",
    "\n",
    "    def get_feature_vector(self, ts: pd.Series):\n",
    "        # your code here\n",
    "        return feature_vector\n",
    "\n",
    "    def _check_fitted(self):\n",
    "        if not self.fitted:\n",
    "            raise ValueError('This instance is not fitted yet. Call fit method first.')"
   ]
  },
  {
   "cell_type": "code",
   "execution_count": 167,
   "id": "70ede4bb-6b74-463b-9d93-03664bc05f4b",
   "metadata": {},
   "outputs": [],
   "source": [
    "# код для считывания датасета\n",
    "\n",
    "with open('./dataset_clf/labels.csv', 'r') as f:\n",
    "    labels = (line.replace('\\n', '').split(',') for line in f)\n",
    "    labels = dict(labels)\n",
    "    labels = {k: int(v) for k, v in labels.items()}\n",
    "\n",
    "dataset = []\n",
    "\n",
    "for filename in Path('./dataset_clf/').glob('[!labels]*'):\n",
    "    ts = pd.read_json(filename, typ='series')\n",
    "    dataset.append((ts, labels[filename.name]))"
   ]
  },
  {
   "cell_type": "code",
   "execution_count": null,
   "id": "99b60e9c-db4e-4bdb-b886-47f8f98c816b",
   "metadata": {},
   "outputs": [],
   "source": []
  }
 ],
 "metadata": {
  "kernelspec": {
   "display_name": "Python 3 (ipykernel)",
   "language": "python",
   "name": "python3"
  },
  "language_info": {
   "codemirror_mode": {
    "name": "ipython",
    "version": 3
   },
   "file_extension": ".py",
   "mimetype": "text/x-python",
   "name": "python",
   "nbconvert_exporter": "python",
   "pygments_lexer": "ipython3",
   "version": "3.10.5"
  }
 },
 "nbformat": 4,
 "nbformat_minor": 5
}
